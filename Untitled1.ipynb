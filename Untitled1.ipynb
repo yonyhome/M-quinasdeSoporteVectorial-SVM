{
  "nbformat": 4,
  "nbformat_minor": 0,
  "metadata": {
    "colab": {
      "provenance": [],
      "authorship_tag": "ABX9TyNa+Y+yijnp564i9s53is+V",
      "include_colab_link": true
    },
    "kernelspec": {
      "name": "python3",
      "display_name": "Python 3"
    },
    "language_info": {
      "name": "python"
    }
  },
  "cells": [
    {
      "cell_type": "markdown",
      "metadata": {
        "id": "view-in-github",
        "colab_type": "text"
      },
      "source": [
        "<a href=\"https://colab.research.google.com/github/yonyhome/M-quinasdeSoporteVectorial-SVM/blob/main/Untitled1.ipynb\" target=\"_parent\"><img src=\"https://colab.research.google.com/assets/colab-badge.svg\" alt=\"Open In Colab\"/></a>"
      ]
    },
    {
      "cell_type": "markdown",
      "source": [
        "# Esta actividad tiene como objetivos:\n",
        "\n",
        "● Implementar una SVM que reciba como entrada un conjunto de características observadas de imágenes correspondientes a dígitos del 0 al 9 escritos a mano y genere como resultado la categoría (0 al 9) correspondiente al dígito que se está analizando.\n"
      ],
      "metadata": {
        "id": "4Tffv8nbyCjy"
      }
    },
    {
      "cell_type": "code",
      "execution_count": 35,
      "metadata": {
        "id": "sUwRxerVLY0A"
      },
      "outputs": [],
      "source": [
        "#primero importamos las librerias necesarias\n",
        "import pandas as pd\n",
        "import matplotlib.pyplot as plt\n",
        "from sklearn.datasets import load_digits\n",
        "from sklearn import svm\n",
        "from sklearn.svm import SVC\n",
        "from sklearn.model_selection import train_test_split\n",
        "import numpy as np"
      ]
    },
    {
      "cell_type": "code",
      "source": [
        "#Cargamos el Dataset\n",
        "digits = load_digits()\n",
        "print(dir(digits))#observamos los atributos de nuestro dataset"
      ],
      "metadata": {
        "colab": {
          "base_uri": "https://localhost:8080/"
        },
        "id": "0dU9FTXZMCiP",
        "outputId": "e97250f2-103c-4418-ec99-2bf9ca0d3173"
      },
      "execution_count": 36,
      "outputs": [
        {
          "output_type": "stream",
          "name": "stdout",
          "text": [
            "['DESCR', 'data', 'feature_names', 'frame', 'images', 'target', 'target_names']\n"
          ]
        }
      ]
    },
    {
      "cell_type": "code",
      "source": [
        "print(digits.data)#observamos los digitos que contiene nuestro dataset"
      ],
      "metadata": {
        "colab": {
          "base_uri": "https://localhost:8080/"
        },
        "id": "exh9kX2fMY1M",
        "outputId": "20db7667-6255-4416-af95-e1f6c4fbe865"
      },
      "execution_count": 37,
      "outputs": [
        {
          "output_type": "stream",
          "name": "stdout",
          "text": [
            "[[ 0.  0.  5. ...  0.  0.  0.]\n",
            " [ 0.  0.  0. ... 10.  0.  0.]\n",
            " [ 0.  0.  0. ... 16.  9.  0.]\n",
            " ...\n",
            " [ 0.  0.  1. ...  6.  0.  0.]\n",
            " [ 0.  0.  2. ... 12.  0.  0.]\n",
            " [ 0.  0. 10. ... 12.  1.  0.]]\n"
          ]
        }
      ]
    },
    {
      "cell_type": "code",
      "source": [
        "print(digits.target)"
      ],
      "metadata": {
        "colab": {
          "base_uri": "https://localhost:8080/"
        },
        "id": "B4a43I3PMmPS",
        "outputId": "c0464df2-a3b5-44e8-a656-3bc74b8de614"
      },
      "execution_count": 38,
      "outputs": [
        {
          "output_type": "stream",
          "name": "stdout",
          "text": [
            "[0 1 2 ... 8 9 8]\n"
          ]
        }
      ]
    },
    {
      "cell_type": "code",
      "source": [
        "df = pd.DataFrame(digits.data)\n",
        "print(df)"
      ],
      "metadata": {
        "colab": {
          "base_uri": "https://localhost:8080/"
        },
        "id": "Ob-FuqTnMsui",
        "outputId": "b065622e-a08a-4acf-c299-5f4d9e23c49e"
      },
      "execution_count": 39,
      "outputs": [
        {
          "output_type": "stream",
          "name": "stdout",
          "text": [
            "       0    1     2     3     4     5    6    7    8    9   ...   54   55  \\\n",
            "0     0.0  0.0   5.0  13.0   9.0   1.0  0.0  0.0  0.0  0.0  ...  0.0  0.0   \n",
            "1     0.0  0.0   0.0  12.0  13.0   5.0  0.0  0.0  0.0  0.0  ...  0.0  0.0   \n",
            "2     0.0  0.0   0.0   4.0  15.0  12.0  0.0  0.0  0.0  0.0  ...  5.0  0.0   \n",
            "3     0.0  0.0   7.0  15.0  13.0   1.0  0.0  0.0  0.0  8.0  ...  9.0  0.0   \n",
            "4     0.0  0.0   0.0   1.0  11.0   0.0  0.0  0.0  0.0  0.0  ...  0.0  0.0   \n",
            "...   ...  ...   ...   ...   ...   ...  ...  ...  ...  ...  ...  ...  ...   \n",
            "1792  0.0  0.0   4.0  10.0  13.0   6.0  0.0  0.0  0.0  1.0  ...  4.0  0.0   \n",
            "1793  0.0  0.0   6.0  16.0  13.0  11.0  1.0  0.0  0.0  0.0  ...  1.0  0.0   \n",
            "1794  0.0  0.0   1.0  11.0  15.0   1.0  0.0  0.0  0.0  0.0  ...  0.0  0.0   \n",
            "1795  0.0  0.0   2.0  10.0   7.0   0.0  0.0  0.0  0.0  0.0  ...  2.0  0.0   \n",
            "1796  0.0  0.0  10.0  14.0   8.0   1.0  0.0  0.0  0.0  2.0  ...  8.0  0.0   \n",
            "\n",
            "       56   57   58    59    60    61   62   63  \n",
            "0     0.0  0.0  6.0  13.0  10.0   0.0  0.0  0.0  \n",
            "1     0.0  0.0  0.0  11.0  16.0  10.0  0.0  0.0  \n",
            "2     0.0  0.0  0.0   3.0  11.0  16.0  9.0  0.0  \n",
            "3     0.0  0.0  7.0  13.0  13.0   9.0  0.0  0.0  \n",
            "4     0.0  0.0  0.0   2.0  16.0   4.0  0.0  0.0  \n",
            "...   ...  ...  ...   ...   ...   ...  ...  ...  \n",
            "1792  0.0  0.0  2.0  14.0  15.0   9.0  0.0  0.0  \n",
            "1793  0.0  0.0  6.0  16.0  14.0   6.0  0.0  0.0  \n",
            "1794  0.0  0.0  2.0   9.0  13.0   6.0  0.0  0.0  \n",
            "1795  0.0  0.0  5.0  12.0  16.0  12.0  0.0  0.0  \n",
            "1796  0.0  1.0  8.0  12.0  14.0  12.0  1.0  0.0  \n",
            "\n",
            "[1797 rows x 64 columns]\n"
          ]
        }
      ]
    },
    {
      "cell_type": "code",
      "source": [
        "#Agregamos la columna target que hace referencia a nuestra variable dependiente\n",
        "df[\"target\"] = digits.target\n",
        "print(df)"
      ],
      "metadata": {
        "colab": {
          "base_uri": "https://localhost:8080/"
        },
        "id": "Sz-_IRHsM4BE",
        "outputId": "d45a1e32-c039-4241-b03a-fd8d35ea56cc"
      },
      "execution_count": 40,
      "outputs": [
        {
          "output_type": "stream",
          "name": "stdout",
          "text": [
            "        0    1     2     3     4     5    6    7    8    9  ...   55   56  \\\n",
            "0     0.0  0.0   5.0  13.0   9.0   1.0  0.0  0.0  0.0  0.0  ...  0.0  0.0   \n",
            "1     0.0  0.0   0.0  12.0  13.0   5.0  0.0  0.0  0.0  0.0  ...  0.0  0.0   \n",
            "2     0.0  0.0   0.0   4.0  15.0  12.0  0.0  0.0  0.0  0.0  ...  0.0  0.0   \n",
            "3     0.0  0.0   7.0  15.0  13.0   1.0  0.0  0.0  0.0  8.0  ...  0.0  0.0   \n",
            "4     0.0  0.0   0.0   1.0  11.0   0.0  0.0  0.0  0.0  0.0  ...  0.0  0.0   \n",
            "...   ...  ...   ...   ...   ...   ...  ...  ...  ...  ...  ...  ...  ...   \n",
            "1792  0.0  0.0   4.0  10.0  13.0   6.0  0.0  0.0  0.0  1.0  ...  0.0  0.0   \n",
            "1793  0.0  0.0   6.0  16.0  13.0  11.0  1.0  0.0  0.0  0.0  ...  0.0  0.0   \n",
            "1794  0.0  0.0   1.0  11.0  15.0   1.0  0.0  0.0  0.0  0.0  ...  0.0  0.0   \n",
            "1795  0.0  0.0   2.0  10.0   7.0   0.0  0.0  0.0  0.0  0.0  ...  0.0  0.0   \n",
            "1796  0.0  0.0  10.0  14.0   8.0   1.0  0.0  0.0  0.0  2.0  ...  0.0  0.0   \n",
            "\n",
            "       57   58    59    60    61   62   63  target  \n",
            "0     0.0  6.0  13.0  10.0   0.0  0.0  0.0       0  \n",
            "1     0.0  0.0  11.0  16.0  10.0  0.0  0.0       1  \n",
            "2     0.0  0.0   3.0  11.0  16.0  9.0  0.0       2  \n",
            "3     0.0  7.0  13.0  13.0   9.0  0.0  0.0       3  \n",
            "4     0.0  0.0   2.0  16.0   4.0  0.0  0.0       4  \n",
            "...   ...  ...   ...   ...   ...  ...  ...     ...  \n",
            "1792  0.0  2.0  14.0  15.0   9.0  0.0  0.0       9  \n",
            "1793  0.0  6.0  16.0  14.0   6.0  0.0  0.0       0  \n",
            "1794  0.0  2.0   9.0  13.0   6.0  0.0  0.0       8  \n",
            "1795  0.0  5.0  12.0  16.0  12.0  0.0  0.0       9  \n",
            "1796  1.0  8.0  12.0  14.0  12.0  1.0  0.0       8  \n",
            "\n",
            "[1797 rows x 65 columns]\n"
          ]
        }
      ]
    },
    {
      "cell_type": "code",
      "source": [
        "model = svm.SVC(kernel = \"linear\", gamma=0.1, C=10)\n",
        "print(len(digits.data))\n",
        "x,y = digits.data[:-10], digits.target[:-10]\n",
        "#Entrenando el modelo\n",
        "model.fit(x,y)\n",
        "#testiando al modelo\n",
        "x_train, x_test, y_train, y_test = train_test_split(x, y, test_size = 0.3)\n",
        "print(len(x_train))\n",
        "print(len(x_test))"
      ],
      "metadata": {
        "colab": {
          "base_uri": "https://localhost:8080/"
        },
        "id": "TGNN4JejN_-t",
        "outputId": "73d3ce34-0882-48d6-af6d-cc46ac6662a2"
      },
      "execution_count": 41,
      "outputs": [
        {
          "output_type": "stream",
          "name": "stdout",
          "text": [
            "1797\n",
            "1250\n",
            "537\n"
          ]
        }
      ]
    },
    {
      "cell_type": "code",
      "source": [
        "#Tomamos una muestra singular como ejemplo de la funcionalidad del modelo\n",
        "print(\"prediction of last: \", model.predict(digits.data[[-6]]))#muestra el numero predecido por el modelo\n",
        "plt.imshow(digits.images[-6], cmap = plt.cm.gray_r, interpolation = \"nearest\")\n",
        "plt.show()#muestra la imagen que se uso de prueba\n"
      ],
      "metadata": {
        "colab": {
          "base_uri": "https://localhost:8080/",
          "height": 282
        },
        "id": "gAXRtcEok3y7",
        "outputId": "8b57334d-181c-47d7-eade-fddbad9e5014"
      },
      "execution_count": 48,
      "outputs": [
        {
          "output_type": "stream",
          "name": "stdout",
          "text": [
            "prediction of last:  [4]\n"
          ]
        },
        {
          "output_type": "display_data",
          "data": {
            "text/plain": [
              "<Figure size 432x288 with 1 Axes>"
            ],
            "image/png": "[encoded data removed]"
          },
          "metadata": {
            "needs_background": "light"
          }
        }
      ]
    },
    {
      "cell_type": "code",
      "source": [
        "model.fit(x_train, y_train)\n",
        "print(model)\n",
        "print(model.score(x_test, y_test))"
      ],
      "metadata": {
        "colab": {
          "base_uri": "https://localhost:8080/"
        },
        "id": "gTYLosVRuggt",
        "outputId": "40a3f87e-cba9-44dc-8d1e-73792f856390"
      },
      "execution_count": 43,
      "outputs": [
        {
          "output_type": "stream",
          "name": "stdout",
          "text": [
            "SVC(C=10, gamma=0.1, kernel='linear')\n",
            "0.9832402234636871\n"
          ]
        }
      ]
    },
    {
      "cell_type": "code",
      "metadata": {
        "id": "m6nrgHIVjngk"
      },
      "source": [
        "from sklearn.svm import SVC\n",
        "\n",
        "clfSVC = SVC(\n",
        "    kernel = 'poly',#'sigmoid', # ‘linear’, ‘poly’, ‘rbf’\n",
        "    probability = True\n",
        "    )\n",
        "\n",
        "clfSVC.fit(x_train,y_train)\n",
        "y_esperado = y_test\n",
        "y_predicho = clfSVC.predict(x_test)"
      ],
      "execution_count": 44,
      "outputs": []
    },
    {
      "cell_type": "code",
      "metadata": {
        "id": "4ie-WFcbkuD0",
        "colab": {
          "base_uri": "https://localhost:8080/"
        },
        "outputId": "24cff672-99dc-49ea-c364-ed76430e058a"
      },
      "source": [
        "from sklearn.metrics import accuracy_score\n",
        "print(accuracy_score(y_esperado,y_predicho))"
      ],
      "execution_count": 45,
      "outputs": [
        {
          "output_type": "stream",
          "name": "stdout",
          "text": [
            "0.9925512104283054\n"
          ]
        }
      ]
    },
    {
      "cell_type": "markdown",
      "source": [],
      "metadata": {
        "id": "FR6UmDW-yAsL"
      }
    }
  ]
}